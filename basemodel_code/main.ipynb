{
 "cells": [
  {
   "cell_type": "markdown",
   "metadata": {},
   "source": [
    "# DataLoader Setup"
   ]
  },
  {
   "cell_type": "code",
   "execution_count": 1,
   "metadata": {},
   "outputs": [
    {
     "name": "stderr",
     "output_type": "stream",
     "text": [
      "/home/neungyun/anaconda3/envs/torch/lib/python3.8/site-packages/pytorch_lightning/core/datamodule.py:73: LightningDeprecationWarning: DataModule property `train_transforms` was deprecated in v1.5 and will be removed in v1.7.\n",
      "  rank_zero_deprecation(\n",
      "/home/neungyun/anaconda3/envs/torch/lib/python3.8/site-packages/pytorch_lightning/core/datamodule.py:77: LightningDeprecationWarning: DataModule property `val_transforms` was deprecated in v1.5 and will be removed in v1.7.\n",
      "  rank_zero_deprecation(\n",
      "/home/neungyun/anaconda3/envs/torch/lib/python3.8/site-packages/pytorch_lightning/core/datamodule.py:81: LightningDeprecationWarning: DataModule property `test_transforms` was deprecated in v1.5 and will be removed in v1.7.\n",
      "  rank_zero_deprecation(\n",
      "Global seed set to 1234\n"
     ]
    },
    {
     "data": {
      "text/plain": [
       "1234"
      ]
     },
     "execution_count": 1,
     "metadata": {},
     "output_type": "execute_result"
    }
   ],
   "source": [
    "import os\n",
    "import torch\n",
    "import torchvision\n",
    "from pytorch_lightning import seed_everything\n",
    "from pl_bolts.datamodules import CIFAR10DataModule, TinyCIFAR10DataModule\n",
    "from pl_bolts.transforms.dataset_normalizations import cifar10_normalization\n",
    "\n",
    "PATH_DATASETS = os.environ.get('PATH_DATASETS', '../datasets')\n",
    "AVAIL_GPUS = min(1, torch.cuda.device_count())\n",
    "BATCH_SIZE = 512 if AVAIL_GPUS else 64\n",
    "NUM_WORKERS = int(os.cpu_count()/2)\n",
    "TEST_ONLY = False\n",
    "\n",
    "test_transforms = [\n",
    "        torchvision.transforms.ToTensor(),\n",
    "        cifar10_normalization(),        \n",
    "        torchvision.transforms.Lambda(lambda x: x.clamp(min = -1, max = 1)),\n",
    "        torchvision.transforms.Lambda(lambda x: x * 127),   \n",
    "        torchvision.transforms.Lambda(lambda x: x.floor())  \n",
    "]\n",
    "\n",
    "train_transforms = torchvision.transforms.Compose(\n",
    "    [\n",
    "        torchvision.transforms.RandomCrop(32, padding=4),\n",
    "        torchvision.transforms.RandomHorizontalFlip(),\n",
    "    ] \n",
    "    + test_transforms\n",
    ")\n",
    "\n",
    "test_transforms = torchvision.transforms.Compose(test_transforms)\n",
    "\n",
    "cifar10_dm = CIFAR10DataModule(\n",
    "    data_dir = PATH_DATASETS,\n",
    "    batch_size = BATCH_SIZE,\n",
    "    num_workers = NUM_WORKERS,\n",
    "    train_transforms = train_transforms,\n",
    "    test_transforms = test_transforms,\n",
    "    val_transforms = test_transforms,\n",
    ")\n",
    "\n",
    "seed_everything(seed=1234, workers=True)"
   ]
  },
  {
   "cell_type": "markdown",
   "metadata": {},
   "source": [
    "# model "
   ]
  },
  {
   "cell_type": "code",
   "execution_count": 2,
   "metadata": {},
   "outputs": [
    {
     "ename": "AttributeError",
     "evalue": "type object 'TeacherModel' has no attribute 'load_from_checkpoint'",
     "output_type": "error",
     "traceback": [
      "\u001b[0;31m---------------------------------------------------------------------------\u001b[0m",
      "\u001b[0;31mAttributeError\u001b[0m                            Traceback (most recent call last)",
      "\u001b[1;32m/home/neungyun/React_Net/main.ipynb Cell 4'\u001b[0m in \u001b[0;36m<module>\u001b[0;34m\u001b[0m\n\u001b[1;32m     <a href='vscode-notebook-cell://wsl%2Bubuntu/home/neungyun/React_Net/main.ipynb#ch0000003vscode-remote?line=11'>12</a>\u001b[0m react_model \u001b[39m=\u001b[39m [{\u001b[39m'\u001b[39m\u001b[39min_channels\u001b[39m\u001b[39m'\u001b[39m:\u001b[39m3\u001b[39m, \u001b[39m'\u001b[39m\u001b[39mout_channels\u001b[39m\u001b[39m'\u001b[39m:\u001b[39m32\u001b[39m, \u001b[39m'\u001b[39m\u001b[39mstride\u001b[39m\u001b[39m'\u001b[39m:\u001b[39m1\u001b[39m }, \u001b[39m# block : react or baseline\u001b[39;00m\n\u001b[1;32m     <a href='vscode-notebook-cell://wsl%2Bubuntu/home/neungyun/React_Net/main.ipynb#ch0000003vscode-remote?line=12'>13</a>\u001b[0m             {\u001b[39m'\u001b[39m\u001b[39min_channels\u001b[39m\u001b[39m'\u001b[39m:\u001b[39m32\u001b[39m, \u001b[39m'\u001b[39m\u001b[39mout_channels\u001b[39m\u001b[39m'\u001b[39m:\u001b[39m64\u001b[39m, \u001b[39m'\u001b[39m\u001b[39mblock\u001b[39m\u001b[39m'\u001b[39m:\u001b[39m'\u001b[39m\u001b[39mreact\u001b[39m\u001b[39m'\u001b[39m}, \u001b[39m# 16\u001b[39;00m\n\u001b[1;32m     <a href='vscode-notebook-cell://wsl%2Bubuntu/home/neungyun/React_Net/main.ipynb#ch0000003vscode-remote?line=13'>14</a>\u001b[0m             {\u001b[39m'\u001b[39m\u001b[39min_channels\u001b[39m\u001b[39m'\u001b[39m:\u001b[39m64\u001b[39m, \u001b[39m'\u001b[39m\u001b[39mout_channels\u001b[39m\u001b[39m'\u001b[39m:\u001b[39m128\u001b[39m, \u001b[39m'\u001b[39m\u001b[39mblock\u001b[39m\u001b[39m'\u001b[39m:\u001b[39m'\u001b[39m\u001b[39mreact\u001b[39m\u001b[39m'\u001b[39m}, \u001b[39m# 8\u001b[39;00m\n\u001b[0;32m   (...)\u001b[0m\n\u001b[1;32m     <a href='vscode-notebook-cell://wsl%2Bubuntu/home/neungyun/React_Net/main.ipynb#ch0000003vscode-remote?line=16'>17</a>\u001b[0m             {\u001b[39m'\u001b[39m\u001b[39min_channels\u001b[39m\u001b[39m'\u001b[39m:\u001b[39m512\u001b[39m, \u001b[39m'\u001b[39m\u001b[39mout_channels\u001b[39m\u001b[39m'\u001b[39m:\u001b[39m1024\u001b[39m, \u001b[39m'\u001b[39m\u001b[39mblock\u001b[39m\u001b[39m'\u001b[39m:\u001b[39m'\u001b[39m\u001b[39mreact\u001b[39m\u001b[39m'\u001b[39m}, \u001b[39m# 1\u001b[39;00m\n\u001b[1;32m     <a href='vscode-notebook-cell://wsl%2Bubuntu/home/neungyun/React_Net/main.ipynb#ch0000003vscode-remote?line=17'>18</a>\u001b[0m             {\u001b[39m'\u001b[39m\u001b[39min_channels\u001b[39m\u001b[39m'\u001b[39m:\u001b[39m1024\u001b[39m, \u001b[39m'\u001b[39m\u001b[39mout_channels\u001b[39m\u001b[39m'\u001b[39m:\u001b[39m10\u001b[39m, \u001b[39m'\u001b[39m\u001b[39mblock\u001b[39m\u001b[39m'\u001b[39m:\u001b[39m'\u001b[39m\u001b[39mreact\u001b[39m\u001b[39m'\u001b[39m}]\n\u001b[1;32m     <a href='vscode-notebook-cell://wsl%2Bubuntu/home/neungyun/React_Net/main.ipynb#ch0000003vscode-remote?line=19'>20</a>\u001b[0m \u001b[39m#baselinemodel = TeacherModel(structure=base_model)\u001b[39;00m\n\u001b[0;32m---> <a href='vscode-notebook-cell://wsl%2Bubuntu/home/neungyun/React_Net/main.ipynb#ch0000003vscode-remote?line=20'>21</a>\u001b[0m baselinemodel \u001b[39m=\u001b[39m TeacherModel\u001b[39m.\u001b[39;49mload_from_checkpoint(\u001b[39m'\u001b[39m\u001b[39mlightning_logs/ReActNet/version_1/checkpoints/epoch=2-val_loss=1.7775-val_acc=0.3467.ckpt\u001b[39m\u001b[39m'\u001b[39m)\n\u001b[1;32m     <a href='vscode-notebook-cell://wsl%2Bubuntu/home/neungyun/React_Net/main.ipynb#ch0000003vscode-remote?line=21'>22</a>\u001b[0m baselinemodel\u001b[39m.\u001b[39mload_state_dict(baselinemodel\u001b[39m.\u001b[39mstate_dict(), strict\u001b[39m=\u001b[39m\u001b[39mFalse\u001b[39;00m)\n\u001b[1;32m     <a href='vscode-notebook-cell://wsl%2Bubuntu/home/neungyun/React_Net/main.ipynb#ch0000003vscode-remote?line=23'>24</a>\u001b[0m react_model \u001b[39m=\u001b[39m ReactModel(structure\u001b[39m=\u001b[39mreact_model,\n\u001b[1;32m     <a href='vscode-notebook-cell://wsl%2Bubuntu/home/neungyun/React_Net/main.ipynb#ch0000003vscode-remote?line=24'>25</a>\u001b[0m                          teacher_model \u001b[39m=\u001b[39m baselinemodel,\n\u001b[1;32m     <a href='vscode-notebook-cell://wsl%2Bubuntu/home/neungyun/React_Net/main.ipynb#ch0000003vscode-remote?line=25'>26</a>\u001b[0m                          limit_conv_weight\u001b[39m=\u001b[39m\u001b[39mTrue\u001b[39;00m,\n\u001b[0;32m   (...)\u001b[0m\n\u001b[1;32m     <a href='vscode-notebook-cell://wsl%2Bubuntu/home/neungyun/React_Net/main.ipynb#ch0000003vscode-remote?line=31'>32</a>\u001b[0m                          lr_patience\u001b[39m=\u001b[39m\u001b[39m50\u001b[39m,\n\u001b[1;32m     <a href='vscode-notebook-cell://wsl%2Bubuntu/home/neungyun/React_Net/main.ipynb#ch0000003vscode-remote?line=32'>33</a>\u001b[0m                          )\n",
      "\u001b[0;31mAttributeError\u001b[0m: type object 'TeacherModel' has no attribute 'load_from_checkpoint'"
     ]
    }
   ],
   "source": [
    "from model import ReactModel\n",
    "from model import TeacherModel\n",
    "\n",
    "base_model = [{'in_channels':3, 'out_channels':32, 'stride':1 }, # block : react or baseline\n",
    "            {'in_channels':32, 'out_channels':64, 'block':'baseline'}, # 16\n",
    "            {'in_channels':64, 'out_channels':128, 'block':'baseline'}, # 8\n",
    "            {'in_channels':128, 'out_channels':256, 'block':'baseline'}, # 4\n",
    "            {'in_channels':256, 'out_channels':512, 'block':'baseline'}, # 4\n",
    "            {'in_channels':512, 'out_channels':1024, 'block':'baseline'}, # 1\n",
    "            {'in_channels':1024, 'out_channels':10, 'block':'baseline'}]\n",
    "\n",
    "react_model = [{'in_channels':3, 'out_channels':32, 'stride':1 }, # block : react or baseline\n",
    "            {'in_channels':32, 'out_channels':64, 'block':'react'}, # 16\n",
    "            {'in_channels':64, 'out_channels':128, 'block':'react'}, # 8\n",
    "            {'in_channels':128, 'out_channels':256, 'block':'react'}, # 4\n",
    "            {'in_channels':256, 'out_channels':512, 'block':'react'}, # 4\n",
    "            {'in_channels':512, 'out_channels':1024, 'block':'react'}, # 1\n",
    "            {'in_channels':1024, 'out_channels':10, 'block':'react'}]\n",
    "\n",
    "\n",
    "\n",
    "react_model = ReactModel(structure=react_model,\n",
    "                         limit_conv_weight=True,\n",
    "                         limit_bn_weight=True,\n",
    "                         adam_init_lr=0.01, \n",
    "                         adam_weight_decay=0,\n",
    "                         adam_betas=(0.9, 0.999),\n",
    "                         lr_reduce_factor=0.1,\n",
    "                         lr_patience=50,\n",
    "                         )"
   ]
  },
  {
   "cell_type": "code",
   "execution_count": null,
   "metadata": {},
   "outputs": [],
   "source": [
    "#baselinemodel(baselinemodel.example_input_array).shape\n",
    "#baselinemodel = TeacherModel(structure=base_model)\n",
    "baselinemodel = ReactModel.load_from_checkpoint('lightning_logs/ReActNet/version_1/checkpoints/epoch=2-val_loss=1.7775-val_acc=0.3467.ckpt')\n",
    "baselinemodel.load_state_dict(baselinemodel.state_dict(), strict=False)\n",
    "\n",
    "teacher_model = TeacherModel(structure=base_model)\n",
    "\n",
    "for i in teacher_model.state_dict():\n",
    "  if i in t_model.state_dict():\n",
    "    teacher_model.state_dict()[i]=t_model.state_dict()[i]\n"
   ]
  },
  {
   "cell_type": "code",
   "execution_count": null,
   "metadata": {},
   "outputs": [],
   "source": [
    "from pytorch_lightning import Trainer\n",
    "from pytorch_lightning.callbacks import LearningRateMonitor\n",
    "from pytorch_lightning.callbacks import EarlyStopping\n",
    "from pytorch_lightning.callbacks.model_checkpoint import ModelCheckpoint\n",
    "from pytorch_lightning.loggers import TensorBoardLogger\n",
    "\n",
    "checkpoint_callback = ModelCheckpoint(filename='{epoch}-{val_loss:.4f}-{val_acc:.4f}', monitor='val_acc', mode='max')\n",
    "trainer = Trainer(\n",
    "    max_epochs=-1,\n",
    "    gpus=AVAIL_GPUS,\n",
    "    logger=TensorBoardLogger('lightning_logs/', name='ReActNet', log_graph=True),\n",
    "    # logger=TensorBoardLogger('lightning_logs/', name='Real', log_graph=True),\n",
    "    callbacks=[LearningRateMonitor(logging_interval='step'), \n",
    "               EarlyStopping(monitor='val_acc', mode='max', patience=100),\n",
    "               checkpoint_callback],\n",
    "    deterministic=True,\n",
    "#    gradient_clip_val = 0.5\n",
    ")\n",
    "\n",
    "trainer.fit(react_model, datamodule=cifar10_dm)"
   ]
  },
  {
   "cell_type": "code",
   "execution_count": null,
   "metadata": {},
   "outputs": [],
   "source": []
  },
  {
   "cell_type": "code",
   "execution_count": null,
   "metadata": {},
   "outputs": [],
   "source": []
  }
 ],
 "metadata": {
  "interpreter": {
   "hash": "47e09afa00117adb128a14bba5a0354c21242f9789155299d9b4cfecff478770"
  },
  "kernelspec": {
   "display_name": "Python 3.8.12 ('torch')",
   "language": "python",
   "name": "python3"
  },
  "language_info": {
   "codemirror_mode": {
    "name": "ipython",
    "version": 3
   },
   "file_extension": ".py",
   "mimetype": "text/x-python",
   "name": "python",
   "nbconvert_exporter": "python",
   "pygments_lexer": "ipython3",
   "version": "3.8.12"
  },
  "orig_nbformat": 4
 },
 "nbformat": 4,
 "nbformat_minor": 2
}
