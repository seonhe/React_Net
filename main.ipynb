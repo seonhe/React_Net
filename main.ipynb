{
 "cells": [
  {
   "cell_type": "markdown",
   "metadata": {},
   "source": [
    "# DataLoader Setup"
   ]
  },
  {
   "cell_type": "code",
   "execution_count": 1,
   "metadata": {},
   "outputs": [
    {
     "name": "stderr",
     "output_type": "stream",
     "text": [
      "/home/neungyun/anaconda3/envs/torch/lib/python3.8/site-packages/pytorch_lightning/core/datamodule.py:73: LightningDeprecationWarning: DataModule property `train_transforms` was deprecated in v1.5 and will be removed in v1.7.\n",
      "  rank_zero_deprecation(\n",
      "/home/neungyun/anaconda3/envs/torch/lib/python3.8/site-packages/pytorch_lightning/core/datamodule.py:77: LightningDeprecationWarning: DataModule property `val_transforms` was deprecated in v1.5 and will be removed in v1.7.\n",
      "  rank_zero_deprecation(\n",
      "/home/neungyun/anaconda3/envs/torch/lib/python3.8/site-packages/pytorch_lightning/core/datamodule.py:81: LightningDeprecationWarning: DataModule property `test_transforms` was deprecated in v1.5 and will be removed in v1.7.\n",
      "  rank_zero_deprecation(\n",
      "Global seed set to 1234\n"
     ]
    },
    {
     "data": {
      "text/plain": [
       "1234"
      ]
     },
     "execution_count": 1,
     "metadata": {},
     "output_type": "execute_result"
    }
   ],
   "source": [
    "import os\n",
    "import torch\n",
    "import torchvision\n",
    "from pytorch_lightning import seed_everything\n",
    "from pl_bolts.datamodules import CIFAR10DataModule, TinyCIFAR10DataModule\n",
    "from pl_bolts.transforms.dataset_normalizations import cifar10_normalization\n",
    "\n",
    "PATH_DATASETS = os.environ.get('PATH_DATASETS', '../datasets')\n",
    "AVAIL_GPUS = min(1, torch.cuda.device_count())\n",
    "BATCH_SIZE = 512 if AVAIL_GPUS else 64\n",
    "NUM_WORKERS = int(os.cpu_count()/2)\n",
    "TEST_ONLY = False\n",
    "\n",
    "test_transforms = [\n",
    "        torchvision.transforms.ToTensor(),\n",
    "        cifar10_normalization(),        \n",
    "        torchvision.transforms.Lambda(lambda x: x.clamp(min = -1, max = 1)),\n",
    "        torchvision.transforms.Lambda(lambda x: x * 127),   \n",
    "        torchvision.transforms.Lambda(lambda x: x.floor())  \n",
    "]\n",
    "\n",
    "train_transforms = torchvision.transforms.Compose(\n",
    "    [\n",
    "        torchvision.transforms.RandomCrop(32, padding=4),\n",
    "        torchvision.transforms.RandomHorizontalFlip(),\n",
    "    ] \n",
    "    + test_transforms\n",
    ")\n",
    "\n",
    "test_transforms = torchvision.transforms.Compose(test_transforms)\n",
    "\n",
    "cifar10_dm = CIFAR10DataModule(\n",
    "    data_dir = PATH_DATASETS,\n",
    "    batch_size = BATCH_SIZE,\n",
    "    num_workers = NUM_WORKERS,\n",
    "    train_transforms = train_transforms,\n",
    "    test_transforms = test_transforms,\n",
    "    val_transforms = test_transforms,\n",
    ")\n",
    "\n",
    "seed_everything(seed=1234, workers=True)"
   ]
  },
  {
   "cell_type": "markdown",
   "metadata": {},
   "source": [
    "# model "
   ]
  },
  {
   "cell_type": "code",
   "execution_count": 2,
   "metadata": {},
   "outputs": [
    {
     "name": "stdout",
     "output_type": "stream",
     "text": [
      "ReactModel(\n",
      "  (blocks): ModuleList(\n",
      "    (0): firstconv3x3(\n",
      "      (conv1): Conv2d(3, 32, kernel_size=(3, 3), stride=(1, 1), padding=(1, 1), bias=False)\n",
      "      (bn1): BatchNorm2d(32, eps=1e-05, momentum=0.1, affine=True, track_running_stats=True)\n",
      "    )\n",
      "    (1): Reduction_Block(\n",
      "      (avgpool): AvgPool2d(kernel_size=2, stride=2, padding=0)\n",
      "      (layer1): Sequential(\n",
      "        (0): Sign(in_channels=32)\n",
      "        (1): GeneralConv2d(32, 32, kernel_size=3, stride=2, padding=1, conv=real)\n",
      "        (2): BatchNorm2d(32, eps=1e-05, momentum=0.1, affine=True, track_running_stats=True)\n",
      "      )\n",
      "      (layer2_1): Sequential(\n",
      "        (0): Sign(in_channels=32)\n",
      "        (1): GeneralConv2d(32, 32, kernel_size=1, stride=1, padding=0, conv=real)\n",
      "        (2): BatchNorm2d(32, eps=1e-05, momentum=0.1, affine=True, track_running_stats=True)\n",
      "      )\n",
      "      (layer2_2): Sequential(\n",
      "        (0): Sign(in_channels=32)\n",
      "        (1): GeneralConv2d(32, 32, kernel_size=1, stride=1, padding=0, conv=real)\n",
      "        (2): BatchNorm2d(32, eps=1e-05, momentum=0.1, affine=True, track_running_stats=True)\n",
      "      )\n",
      "    )\n",
      "    (2): Reduction_Block(\n",
      "      (avgpool): AvgPool2d(kernel_size=2, stride=2, padding=0)\n",
      "      (layer1): Sequential(\n",
      "        (0): Sign(in_channels=64)\n",
      "        (1): GeneralConv2d(64, 64, kernel_size=3, stride=2, padding=1, conv=real)\n",
      "        (2): BatchNorm2d(64, eps=1e-05, momentum=0.1, affine=True, track_running_stats=True)\n",
      "      )\n",
      "      (layer2_1): Sequential(\n",
      "        (0): Sign(in_channels=64)\n",
      "        (1): GeneralConv2d(64, 64, kernel_size=1, stride=1, padding=0, conv=real)\n",
      "        (2): BatchNorm2d(64, eps=1e-05, momentum=0.1, affine=True, track_running_stats=True)\n",
      "      )\n",
      "      (layer2_2): Sequential(\n",
      "        (0): Sign(in_channels=64)\n",
      "        (1): GeneralConv2d(64, 64, kernel_size=1, stride=1, padding=0, conv=real)\n",
      "        (2): BatchNorm2d(64, eps=1e-05, momentum=0.1, affine=True, track_running_stats=True)\n",
      "      )\n",
      "    )\n",
      "    (3): Reduction_Block(\n",
      "      (avgpool): AvgPool2d(kernel_size=2, stride=2, padding=0)\n",
      "      (layer1): Sequential(\n",
      "        (0): Sign(in_channels=128)\n",
      "        (1): GeneralConv2d(128, 128, kernel_size=3, stride=2, padding=1, conv=real)\n",
      "        (2): BatchNorm2d(128, eps=1e-05, momentum=0.1, affine=True, track_running_stats=True)\n",
      "      )\n",
      "      (layer2_1): Sequential(\n",
      "        (0): Sign(in_channels=128)\n",
      "        (1): GeneralConv2d(128, 128, kernel_size=1, stride=1, padding=0, conv=real)\n",
      "        (2): BatchNorm2d(128, eps=1e-05, momentum=0.1, affine=True, track_running_stats=True)\n",
      "      )\n",
      "      (layer2_2): Sequential(\n",
      "        (0): Sign(in_channels=128)\n",
      "        (1): GeneralConv2d(128, 128, kernel_size=1, stride=1, padding=0, conv=real)\n",
      "        (2): BatchNorm2d(128, eps=1e-05, momentum=0.1, affine=True, track_running_stats=True)\n",
      "      )\n",
      "    )\n",
      "    (4): Normal_block(\n",
      "      (layer1): Sequential(\n",
      "        (0): Sign(in_channels=256)\n",
      "        (1): GeneralConv2d(256, 256, kernel_size=3, stride=1, padding=1, conv=real)\n",
      "        (2): BatchNorm2d(256, eps=1e-05, momentum=0.1, affine=True, track_running_stats=True)\n",
      "      )\n",
      "      (layer2): Sequential(\n",
      "        (0): Sign(in_channels=256)\n",
      "        (1): GeneralConv2d(256, 256, kernel_size=1, stride=1, padding=0, conv=real)\n",
      "        (2): BatchNorm2d(256, eps=1e-05, momentum=0.1, affine=True, track_running_stats=True)\n",
      "      )\n",
      "    )\n",
      "    (5): Reduction_Block(\n",
      "      (avgpool): AvgPool2d(kernel_size=2, stride=2, padding=0)\n",
      "      (layer1): Sequential(\n",
      "        (0): Sign(in_channels=256)\n",
      "        (1): GeneralConv2d(256, 256, kernel_size=3, stride=2, padding=1, conv=real)\n",
      "        (2): BatchNorm2d(256, eps=1e-05, momentum=0.1, affine=True, track_running_stats=True)\n",
      "      )\n",
      "      (layer2_1): Sequential(\n",
      "        (0): Sign(in_channels=256)\n",
      "        (1): GeneralConv2d(256, 256, kernel_size=1, stride=1, padding=0, conv=real)\n",
      "        (2): BatchNorm2d(256, eps=1e-05, momentum=0.1, affine=True, track_running_stats=True)\n",
      "      )\n",
      "      (layer2_2): Sequential(\n",
      "        (0): Sign(in_channels=256)\n",
      "        (1): GeneralConv2d(256, 256, kernel_size=1, stride=1, padding=0, conv=real)\n",
      "        (2): BatchNorm2d(256, eps=1e-05, momentum=0.1, affine=True, track_running_stats=True)\n",
      "      )\n",
      "    )\n",
      "    (6): GeneralConv2d(512, 10, kernel_size=1, stride=1, padding=0, conv=scaled_sign)\n",
      "  )\n",
      ")\n",
      "\"adam_betas\":        (0.9, 0.999)\n",
      "\"adam_init_lr\":      0.01\n",
      "\"adam_weight_decay\": 0\n",
      "\"limit_bn_weight\":   True\n",
      "\"limit_conv_weight\": True\n",
      "\"lr_patience\":       50\n",
      "\"lr_reduce_factor\":  0.1\n",
      "\"structure\":         [{'in_channels': 3, 'out_channels': 32, 'stride': 1}, {'in_channels': 32, 'out_channels': 64, 'block': 'baseline'}, {'in_channels': 64, 'out_channels': 128, 'block': 'baseline'}, {'in_channels': 128, 'out_channels': 256, 'block': 'baseline'}, {'in_channels': 256, 'out_channels': 256, 'block': 'baseline'}, {'in_channels': 256, 'out_channels': 512, 'block': 'baseline'}, {'in_channels': 512, 'out_channels': 10, 'block': 'baseline'}]\n"
     ]
    }
   ],
   "source": [
    "from model import ReactModel\n",
    "\n",
    "base_model = [{'in_channels':3, 'out_channels':32, 'stride':1 }, # block : react or baseline\n",
    "            {'in_channels':32, 'out_channels':64, 'block':'baseline'}, # 16\n",
    "            {'in_channels':64, 'out_channels':128, 'block':'baseline'}, # 8\n",
    "            {'in_channels':128, 'out_channels':256, 'block':'baseline'}, # 4\n",
    "            {'in_channels':256, 'out_channels':256, 'block':'baseline'}, # 4\n",
    "            {'in_channels':256, 'out_channels':512, 'block':'baseline'}, # 1\n",
    "            {'in_channels':512, 'out_channels':10, 'block':'baseline'}]\n",
    "\n",
    "baselinemodel = ReactModel(structure=base_model, \n",
    "              adam_init_lr=0.01, \n",
    "              lr_patience=50,\n",
    "              limit_conv_weight=True,\n",
    "              limit_bn_weight=True)\n",
    "\n",
    "print(baselinemodel)\n",
    "print(baselinemodel.hparams)"
   ]
  },
  {
   "cell_type": "code",
   "execution_count": 3,
   "metadata": {},
   "outputs": [
    {
     "ename": "AttributeError",
     "evalue": "'Reduction_Block' object has no attribute 'in_rprelu'",
     "output_type": "error",
     "traceback": [
      "\u001b[0;31m---------------------------------------------------------------------------\u001b[0m",
      "\u001b[0;31mAttributeError\u001b[0m                            Traceback (most recent call last)",
      "\u001b[1;32m/home/neungyun/React_Net/main.ipynb Cell 5'\u001b[0m in \u001b[0;36m<module>\u001b[0;34m\u001b[0m\n\u001b[0;32m----> <a href='vscode-notebook-cell://wsl%2Bubuntu/home/neungyun/React_Net/main.ipynb#ch0000004vscode-remote?line=0'>1</a>\u001b[0m baselinemodel(baselinemodel\u001b[39m.\u001b[39;49mexample_input_array)\n",
      "File \u001b[0;32m~/anaconda3/envs/torch/lib/python3.8/site-packages/torch/nn/modules/module.py:1102\u001b[0m, in \u001b[0;36mModule._call_impl\u001b[0;34m(self, *input, **kwargs)\u001b[0m\n\u001b[1;32m   <a href='file:///~/anaconda3/envs/torch/lib/python3.8/site-packages/torch/nn/modules/module.py?line=1097'>1098</a>\u001b[0m \u001b[39m# If we don't have any hooks, we want to skip the rest of the logic in\u001b[39;00m\n\u001b[1;32m   <a href='file:///~/anaconda3/envs/torch/lib/python3.8/site-packages/torch/nn/modules/module.py?line=1098'>1099</a>\u001b[0m \u001b[39m# this function, and just call forward.\u001b[39;00m\n\u001b[1;32m   <a href='file:///~/anaconda3/envs/torch/lib/python3.8/site-packages/torch/nn/modules/module.py?line=1099'>1100</a>\u001b[0m \u001b[39mif\u001b[39;00m \u001b[39mnot\u001b[39;00m (\u001b[39mself\u001b[39m\u001b[39m.\u001b[39m_backward_hooks \u001b[39mor\u001b[39;00m \u001b[39mself\u001b[39m\u001b[39m.\u001b[39m_forward_hooks \u001b[39mor\u001b[39;00m \u001b[39mself\u001b[39m\u001b[39m.\u001b[39m_forward_pre_hooks \u001b[39mor\u001b[39;00m _global_backward_hooks\n\u001b[1;32m   <a href='file:///~/anaconda3/envs/torch/lib/python3.8/site-packages/torch/nn/modules/module.py?line=1100'>1101</a>\u001b[0m         \u001b[39mor\u001b[39;00m _global_forward_hooks \u001b[39mor\u001b[39;00m _global_forward_pre_hooks):\n\u001b[0;32m-> <a href='file:///~/anaconda3/envs/torch/lib/python3.8/site-packages/torch/nn/modules/module.py?line=1101'>1102</a>\u001b[0m     \u001b[39mreturn\u001b[39;00m forward_call(\u001b[39m*\u001b[39;49m\u001b[39minput\u001b[39;49m, \u001b[39m*\u001b[39;49m\u001b[39m*\u001b[39;49mkwargs)\n\u001b[1;32m   <a href='file:///~/anaconda3/envs/torch/lib/python3.8/site-packages/torch/nn/modules/module.py?line=1102'>1103</a>\u001b[0m \u001b[39m# Do not call functions when jit is used\u001b[39;00m\n\u001b[1;32m   <a href='file:///~/anaconda3/envs/torch/lib/python3.8/site-packages/torch/nn/modules/module.py?line=1103'>1104</a>\u001b[0m full_backward_hooks, non_full_backward_hooks \u001b[39m=\u001b[39m [], []\n",
      "File \u001b[0;32m~/React_Net/model.py:64\u001b[0m, in \u001b[0;36mReactModel.forward\u001b[0;34m(self, x)\u001b[0m\n\u001b[1;32m     <a href='file:///~/React_Net/model.py?line=61'>62</a>\u001b[0m \u001b[39mdef\u001b[39;00m \u001b[39mforward\u001b[39m(\u001b[39mself\u001b[39m, x):\n\u001b[1;32m     <a href='file:///~/React_Net/model.py?line=62'>63</a>\u001b[0m     \u001b[39mfor\u001b[39;00m idx, block \u001b[39min\u001b[39;00m \u001b[39menumerate\u001b[39m(\u001b[39mself\u001b[39m\u001b[39m.\u001b[39mblocks):\n\u001b[0;32m---> <a href='file:///~/React_Net/model.py?line=63'>64</a>\u001b[0m         x \u001b[39m=\u001b[39m block(x)            \n\u001b[1;32m     <a href='file:///~/React_Net/model.py?line=64'>65</a>\u001b[0m     \u001b[39mreturn\u001b[39;00m F\u001b[39m.\u001b[39mlog_softmax(x\u001b[39m.\u001b[39msqueeze(dim\u001b[39m=\u001b[39m\u001b[39m2\u001b[39m)\u001b[39m.\u001b[39msqueeze(dim\u001b[39m=\u001b[39m\u001b[39m2\u001b[39m), dim\u001b[39m=\u001b[39m\u001b[39m1\u001b[39m)\n",
      "File \u001b[0;32m~/anaconda3/envs/torch/lib/python3.8/site-packages/torch/nn/modules/module.py:1102\u001b[0m, in \u001b[0;36mModule._call_impl\u001b[0;34m(self, *input, **kwargs)\u001b[0m\n\u001b[1;32m   <a href='file:///~/anaconda3/envs/torch/lib/python3.8/site-packages/torch/nn/modules/module.py?line=1097'>1098</a>\u001b[0m \u001b[39m# If we don't have any hooks, we want to skip the rest of the logic in\u001b[39;00m\n\u001b[1;32m   <a href='file:///~/anaconda3/envs/torch/lib/python3.8/site-packages/torch/nn/modules/module.py?line=1098'>1099</a>\u001b[0m \u001b[39m# this function, and just call forward.\u001b[39;00m\n\u001b[1;32m   <a href='file:///~/anaconda3/envs/torch/lib/python3.8/site-packages/torch/nn/modules/module.py?line=1099'>1100</a>\u001b[0m \u001b[39mif\u001b[39;00m \u001b[39mnot\u001b[39;00m (\u001b[39mself\u001b[39m\u001b[39m.\u001b[39m_backward_hooks \u001b[39mor\u001b[39;00m \u001b[39mself\u001b[39m\u001b[39m.\u001b[39m_forward_hooks \u001b[39mor\u001b[39;00m \u001b[39mself\u001b[39m\u001b[39m.\u001b[39m_forward_pre_hooks \u001b[39mor\u001b[39;00m _global_backward_hooks\n\u001b[1;32m   <a href='file:///~/anaconda3/envs/torch/lib/python3.8/site-packages/torch/nn/modules/module.py?line=1100'>1101</a>\u001b[0m         \u001b[39mor\u001b[39;00m _global_forward_hooks \u001b[39mor\u001b[39;00m _global_forward_pre_hooks):\n\u001b[0;32m-> <a href='file:///~/anaconda3/envs/torch/lib/python3.8/site-packages/torch/nn/modules/module.py?line=1101'>1102</a>\u001b[0m     \u001b[39mreturn\u001b[39;00m forward_call(\u001b[39m*\u001b[39;49m\u001b[39minput\u001b[39;49m, \u001b[39m*\u001b[39;49m\u001b[39m*\u001b[39;49mkwargs)\n\u001b[1;32m   <a href='file:///~/anaconda3/envs/torch/lib/python3.8/site-packages/torch/nn/modules/module.py?line=1102'>1103</a>\u001b[0m \u001b[39m# Do not call functions when jit is used\u001b[39;00m\n\u001b[1;32m   <a href='file:///~/anaconda3/envs/torch/lib/python3.8/site-packages/torch/nn/modules/module.py?line=1103'>1104</a>\u001b[0m full_backward_hooks, non_full_backward_hooks \u001b[39m=\u001b[39m [], []\n",
      "File \u001b[0;32m~/React_Net/model.py:167\u001b[0m, in \u001b[0;36mReduction_Block.forward\u001b[0;34m(self, x)\u001b[0m\n\u001b[1;32m    <a href='file:///~/React_Net/model.py?line=162'>163</a>\u001b[0m avg_out \u001b[39m=\u001b[39m \u001b[39mself\u001b[39m\u001b[39m.\u001b[39mavgpool(x)\n\u001b[1;32m    <a href='file:///~/React_Net/model.py?line=164'>165</a>\u001b[0m out1 \u001b[39m=\u001b[39m out \u001b[39m+\u001b[39m avg_out\n\u001b[0;32m--> <a href='file:///~/React_Net/model.py?line=166'>167</a>\u001b[0m \u001b[39mif\u001b[39;00m \u001b[39mself\u001b[39;49m\u001b[39m.\u001b[39;49min_rprelu \u001b[39m!=\u001b[39m \u001b[39mNone\u001b[39;00m:\n\u001b[1;32m    <a href='file:///~/React_Net/model.py?line=167'>168</a>\u001b[0m     out2 \u001b[39m=\u001b[39m \u001b[39mself\u001b[39m\u001b[39m.\u001b[39min_rprelu(out1)\n\u001b[1;32m    <a href='file:///~/React_Net/model.py?line=168'>169</a>\u001b[0m \u001b[39melse\u001b[39;00m:\n",
      "File \u001b[0;32m~/anaconda3/envs/torch/lib/python3.8/site-packages/torch/nn/modules/module.py:1177\u001b[0m, in \u001b[0;36mModule.__getattr__\u001b[0;34m(self, name)\u001b[0m\n\u001b[1;32m   <a href='file:///~/anaconda3/envs/torch/lib/python3.8/site-packages/torch/nn/modules/module.py?line=1174'>1175</a>\u001b[0m     \u001b[39mif\u001b[39;00m name \u001b[39min\u001b[39;00m modules:\n\u001b[1;32m   <a href='file:///~/anaconda3/envs/torch/lib/python3.8/site-packages/torch/nn/modules/module.py?line=1175'>1176</a>\u001b[0m         \u001b[39mreturn\u001b[39;00m modules[name]\n\u001b[0;32m-> <a href='file:///~/anaconda3/envs/torch/lib/python3.8/site-packages/torch/nn/modules/module.py?line=1176'>1177</a>\u001b[0m \u001b[39mraise\u001b[39;00m \u001b[39mAttributeError\u001b[39;00m(\u001b[39m\"\u001b[39m\u001b[39m'\u001b[39m\u001b[39m{}\u001b[39;00m\u001b[39m'\u001b[39m\u001b[39m object has no attribute \u001b[39m\u001b[39m'\u001b[39m\u001b[39m{}\u001b[39;00m\u001b[39m'\u001b[39m\u001b[39m\"\u001b[39m\u001b[39m.\u001b[39mformat(\n\u001b[1;32m   <a href='file:///~/anaconda3/envs/torch/lib/python3.8/site-packages/torch/nn/modules/module.py?line=1177'>1178</a>\u001b[0m     \u001b[39mtype\u001b[39m(\u001b[39mself\u001b[39m)\u001b[39m.\u001b[39m\u001b[39m__name__\u001b[39m, name))\n",
      "\u001b[0;31mAttributeError\u001b[0m: 'Reduction_Block' object has no attribute 'in_rprelu'"
     ]
    }
   ],
   "source": [
    "baselinemodel(baselinemodel.example_input_array)\n"
   ]
  },
  {
   "cell_type": "code",
   "execution_count": null,
   "metadata": {},
   "outputs": [],
   "source": [
    "from pytorch_lightning import Trainer\n",
    "from pytorch_lightning.callbacks import LearningRateMonitor\n",
    "from pytorch_lightning.callbacks import EarlyStopping\n",
    "from pytorch_lightning.callbacks.model_checkpoint import ModelCheckpoint\n",
    "from pytorch_lightning.loggers import TensorBoardLogger\n",
    "\n",
    "checkpoint_callback = ModelCheckpoint(filename='{epoch}-{val_loss:.4f}-{val_acc:.4f}', monitor='val_acc', mode='max')\n",
    "trainer = Trainer(\n",
    "    max_epochs=-1,\n",
    "    gpus=AVAIL_GPUS,\n",
    "    logger=TensorBoardLogger('lightning_logs/', name='ReActNet', log_graph=True),\n",
    "    # logger=TensorBoardLogger('lightning_logs/', name='Real', log_graph=True),\n",
    "    callbacks=[LearningRateMonitor(logging_interval='step'), \n",
    "               EarlyStopping(monitor='val_acc', mode='max', patience=100),\n",
    "               checkpoint_callback],\n",
    "    deterministic=True,\n",
    "#    gradient_clip_val = 0.5\n",
    ")\n",
    "\n",
    "trainer.fit(base_model, datamodule=cifar10_dm)"
   ]
  },
  {
   "cell_type": "code",
   "execution_count": null,
   "metadata": {},
   "outputs": [],
   "source": []
  },
  {
   "cell_type": "code",
   "execution_count": null,
   "metadata": {},
   "outputs": [],
   "source": []
  }
 ],
 "metadata": {
  "interpreter": {
   "hash": "47e09afa00117adb128a14bba5a0354c21242f9789155299d9b4cfecff478770"
  },
  "kernelspec": {
   "display_name": "Python 3.8.12 ('torch')",
   "language": "python",
   "name": "python3"
  },
  "language_info": {
   "codemirror_mode": {
    "name": "ipython",
    "version": 3
   },
   "file_extension": ".py",
   "mimetype": "text/x-python",
   "name": "python",
   "nbconvert_exporter": "python",
   "pygments_lexer": "ipython3",
   "version": "3.8.12"
  },
  "orig_nbformat": 4
 },
 "nbformat": 4,
 "nbformat_minor": 2
}
