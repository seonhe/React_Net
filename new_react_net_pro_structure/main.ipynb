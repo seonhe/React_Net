{
 "cells": [
  {
   "cell_type": "markdown",
   "metadata": {},
   "source": [
    "# DataLoader Setup"
   ]
  },
  {
   "cell_type": "code",
   "execution_count": 1,
   "metadata": {},
   "outputs": [
    {
     "name": "stderr",
     "output_type": "stream",
     "text": [
      "/home/neungyun/anaconda3/lib/python3.9/site-packages/pytorch_lightning/core/datamodule.py:73: LightningDeprecationWarning: DataModule property `train_transforms` was deprecated in v1.5 and will be removed in v1.7.\n",
      "  rank_zero_deprecation(\n",
      "/home/neungyun/anaconda3/lib/python3.9/site-packages/pytorch_lightning/core/datamodule.py:77: LightningDeprecationWarning: DataModule property `val_transforms` was deprecated in v1.5 and will be removed in v1.7.\n",
      "  rank_zero_deprecation(\n",
      "/home/neungyun/anaconda3/lib/python3.9/site-packages/pytorch_lightning/core/datamodule.py:81: LightningDeprecationWarning: DataModule property `test_transforms` was deprecated in v1.5 and will be removed in v1.7.\n",
      "  rank_zero_deprecation(\n",
      "Global seed set to 1234\n"
     ]
    },
    {
     "data": {
      "text/plain": [
       "1234"
      ]
     },
     "execution_count": 1,
     "metadata": {},
     "output_type": "execute_result"
    }
   ],
   "source": [
    "import os\n",
    "import torch\n",
    "import torchvision\n",
    "from pytorch_lightning import seed_everything\n",
    "from pl_bolts.datamodules import CIFAR10DataModule, TinyCIFAR10DataModule\n",
    "from pl_bolts.transforms.dataset_normalizations import cifar10_normalization\n",
    "\n",
    "PATH_DATASETS = os.environ.get('PATH_DATASETS', '../datasets')\n",
    "AVAIL_GPUS = min(1, torch.cuda.device_count())\n",
    "BATCH_SIZE = 512 if AVAIL_GPUS else 64\n",
    "NUM_WORKERS = int(os.cpu_count()/2)\n",
    "TEST_ONLY = False\n",
    "\n",
    "test_transforms = [\n",
    "        torchvision.transforms.ToTensor(),\n",
    "        cifar10_normalization(),        \n",
    "        torchvision.transforms.Lambda(lambda x: x.clamp(min = -1, max = 1)),\n",
    "        torchvision.transforms.Lambda(lambda x: x * 127),   \n",
    "        torchvision.transforms.Lambda(lambda x: x.floor())  \n",
    "]\n",
    "\n",
    "train_transforms = torchvision.transforms.Compose(\n",
    "    [\n",
    "        torchvision.transforms.RandomCrop(32, padding=4),\n",
    "        torchvision.transforms.RandomHorizontalFlip(),\n",
    "    ] \n",
    "    + test_transforms\n",
    ")\n",
    "\n",
    "test_transforms = torchvision.transforms.Compose(test_transforms)\n",
    "\n",
    "cifar10_dm = CIFAR10DataModule(\n",
    "    data_dir = PATH_DATASETS,\n",
    "    batch_size = BATCH_SIZE,\n",
    "    num_workers = NUM_WORKERS,\n",
    "    train_transforms = train_transforms,\n",
    "    test_transforms = test_transforms,\n",
    "    val_transforms = test_transforms,\n",
    ")\n",
    "\n",
    "seed_everything(seed=1234, workers=True)"
   ]
  },
  {
   "cell_type": "markdown",
   "metadata": {},
   "source": [
    "# model "
   ]
  },
  {
   "cell_type": "code",
   "execution_count": null,
   "metadata": {},
   "outputs": [],
   "source": []
  },
  {
   "cell_type": "code",
   "execution_count": 2,
   "metadata": {},
   "outputs": [
    {
     "name": "stderr",
     "output_type": "stream",
     "text": [
      "Using cache found in /home/neungyun/.cache/torch/hub/chenyaofo_pytorch-cifar-models_master\n"
     ]
    },
    {
     "name": "stdout",
     "output_type": "stream",
     "text": [
      "\"adam_betas\":        (0.9, 0.999)\n",
      "\"adam_init_lr\":      0.01\n",
      "\"adam_weight_decay\": 0\n",
      "\"limit_bn_weight\":   True\n",
      "\"limit_conv_weight\": True\n",
      "\"lr_patience\":       50\n",
      "\"lr_reduce_factor\":  0.1\n",
      "\"structure\":         [128, 128, 256, 256, 512, 512, 1024, 1024]\n",
      "\"teacher_model\":     None\n",
      "Model(\n",
      "  (blocks): ModuleList(\n",
      "    (0): firstconv3x3(\n",
      "      (conv1): Conv2d(3, 128, kernel_size=(3, 3), stride=(2, 2), padding=(1, 1), bias=False)\n",
      "      (bn1): BatchNorm2d(128, eps=1e-05, momentum=0.1, affine=True, track_running_stats=True)\n",
      "    )\n",
      "    (1): UpperBlock(\n",
      "      (conv): GeneralConv2d(128, 128, kernel_size=3, stride=1, padding=1, conv=scaled_sign)\n",
      "      (rsign): RSign(in_channels=128)\n",
      "      (bn): BatchNorm2d(128, eps=1e-05, momentum=0.1, affine=True, track_running_stats=True)\n",
      "      (rprelu): RPReLU(in_channels=128)\n",
      "    )\n",
      "    (2): LowerBlock(\n",
      "      (rsign): RSign(in_channels=128)\n",
      "      (conv): GeneralConv2d(128, 128, kernel_size=1, stride=1, padding=0, conv=scaled_sign)\n",
      "      (bn): BatchNorm2d(128, eps=1e-05, momentum=0.1, affine=True, track_running_stats=True)\n",
      "      (rprelu): RPReLU(in_channels=128)\n",
      "    )\n",
      "    (3): UpperBlock(\n",
      "      (pool): AvgPool2d(kernel_size=2, stride=2, padding=0)\n",
      "      (conv): GeneralConv2d(128, 128, kernel_size=3, stride=2, padding=1, conv=scaled_sign)\n",
      "      (rsign): RSign(in_channels=128)\n",
      "      (bn): BatchNorm2d(128, eps=1e-05, momentum=0.1, affine=True, track_running_stats=True)\n",
      "      (rprelu): RPReLU(in_channels=128)\n",
      "    )\n",
      "    (4): LowerBlock(\n",
      "      (rsign): RSign(in_channels=128)\n",
      "      (conv): GeneralConv2d(128, 128, kernel_size=1, stride=1, padding=0, conv=scaled_sign)\n",
      "      (bn): BatchNorm2d(128, eps=1e-05, momentum=0.1, affine=True, track_running_stats=True)\n",
      "      (rprelu): RPReLU(in_channels=128)\n",
      "      (rsign2): RSign(in_channels=128)\n",
      "      (conv2): GeneralConv2d(128, 128, kernel_size=1, stride=1, padding=0, conv=scaled_sign)\n",
      "      (bn2): BatchNorm2d(128, eps=1e-05, momentum=0.1, affine=True, track_running_stats=True)\n",
      "      (rprelu2): RPReLU(in_channels=128)\n",
      "    )\n",
      "    (5): UpperBlock(\n",
      "      (conv): GeneralConv2d(256, 256, kernel_size=3, stride=1, padding=1, conv=scaled_sign)\n",
      "      (rsign): RSign(in_channels=256)\n",
      "      (bn): BatchNorm2d(256, eps=1e-05, momentum=0.1, affine=True, track_running_stats=True)\n",
      "      (rprelu): RPReLU(in_channels=256)\n",
      "    )\n",
      "    (6): LowerBlock(\n",
      "      (rsign): RSign(in_channels=256)\n",
      "      (conv): GeneralConv2d(256, 256, kernel_size=1, stride=1, padding=0, conv=scaled_sign)\n",
      "      (bn): BatchNorm2d(256, eps=1e-05, momentum=0.1, affine=True, track_running_stats=True)\n",
      "      (rprelu): RPReLU(in_channels=256)\n",
      "    )\n",
      "    (7): UpperBlock(\n",
      "      (pool): AvgPool2d(kernel_size=2, stride=2, padding=0)\n",
      "      (conv): GeneralConv2d(256, 256, kernel_size=3, stride=2, padding=1, conv=scaled_sign)\n",
      "      (rsign): RSign(in_channels=256)\n",
      "      (bn): BatchNorm2d(256, eps=1e-05, momentum=0.1, affine=True, track_running_stats=True)\n",
      "      (rprelu): RPReLU(in_channels=256)\n",
      "    )\n",
      "    (8): LowerBlock(\n",
      "      (rsign): RSign(in_channels=256)\n",
      "      (conv): GeneralConv2d(256, 256, kernel_size=1, stride=1, padding=0, conv=scaled_sign)\n",
      "      (bn): BatchNorm2d(256, eps=1e-05, momentum=0.1, affine=True, track_running_stats=True)\n",
      "      (rprelu): RPReLU(in_channels=256)\n",
      "      (rsign2): RSign(in_channels=256)\n",
      "      (conv2): GeneralConv2d(256, 256, kernel_size=1, stride=1, padding=0, conv=scaled_sign)\n",
      "      (bn2): BatchNorm2d(256, eps=1e-05, momentum=0.1, affine=True, track_running_stats=True)\n",
      "      (rprelu2): RPReLU(in_channels=256)\n",
      "    )\n",
      "    (9): UpperBlock(\n",
      "      (conv): GeneralConv2d(512, 512, kernel_size=3, stride=1, padding=1, conv=scaled_sign)\n",
      "      (rsign): RSign(in_channels=512)\n",
      "      (bn): BatchNorm2d(512, eps=1e-05, momentum=0.1, affine=True, track_running_stats=True)\n",
      "      (rprelu): RPReLU(in_channels=512)\n",
      "    )\n",
      "    (10): LowerBlock(\n",
      "      (rsign): RSign(in_channels=512)\n",
      "      (conv): GeneralConv2d(512, 512, kernel_size=1, stride=1, padding=0, conv=scaled_sign)\n",
      "      (bn): BatchNorm2d(512, eps=1e-05, momentum=0.1, affine=True, track_running_stats=True)\n",
      "      (rprelu): RPReLU(in_channels=512)\n",
      "    )\n",
      "    (11): UpperBlock(\n",
      "      (pool): AvgPool2d(kernel_size=2, stride=2, padding=0)\n",
      "      (conv): GeneralConv2d(512, 512, kernel_size=3, stride=2, padding=1, conv=scaled_sign)\n",
      "      (rsign): RSign(in_channels=512)\n",
      "      (bn): BatchNorm2d(512, eps=1e-05, momentum=0.1, affine=True, track_running_stats=True)\n",
      "      (rprelu): RPReLU(in_channels=512)\n",
      "    )\n",
      "    (12): LowerBlock(\n",
      "      (rsign): RSign(in_channels=512)\n",
      "      (conv): GeneralConv2d(512, 512, kernel_size=1, stride=1, padding=0, conv=scaled_sign)\n",
      "      (bn): BatchNorm2d(512, eps=1e-05, momentum=0.1, affine=True, track_running_stats=True)\n",
      "      (rprelu): RPReLU(in_channels=512)\n",
      "      (rsign2): RSign(in_channels=512)\n",
      "      (conv2): GeneralConv2d(512, 512, kernel_size=1, stride=1, padding=0, conv=scaled_sign)\n",
      "      (bn2): BatchNorm2d(512, eps=1e-05, momentum=0.1, affine=True, track_running_stats=True)\n",
      "      (rprelu2): RPReLU(in_channels=512)\n",
      "    )\n",
      "    (13): UpperBlock(\n",
      "      (conv): GeneralConv2d(1024, 1024, kernel_size=3, stride=1, padding=1, conv=scaled_sign)\n",
      "      (rsign): RSign(in_channels=1024)\n",
      "      (bn): BatchNorm2d(1024, eps=1e-05, momentum=0.1, affine=True, track_running_stats=True)\n",
      "      (rprelu): RPReLU(in_channels=1024)\n",
      "    )\n",
      "    (14): LowerBlock(\n",
      "      (rsign): RSign(in_channels=1024)\n",
      "      (conv): GeneralConv2d(1024, 1024, kernel_size=1, stride=1, padding=0, conv=scaled_sign)\n",
      "      (bn): BatchNorm2d(1024, eps=1e-05, momentum=0.1, affine=True, track_running_stats=True)\n",
      "      (rprelu): RPReLU(in_channels=1024)\n",
      "    )\n",
      "  )\n",
      "  (pool): AdaptiveAvgPool2d(output_size=1)\n",
      "  (fc): Linear(in_features=1024, out_features=10, bias=True)\n",
      ")\n"
     ]
    }
   ],
   "source": [
    "from model import Model\n",
    "\n",
    "teacher_model = torch.hub.load(\"chenyaofo/pytorch-cifar-models\", \"cifar10_resnet44\", pretrained=True)\n",
    "\n",
    "# model_structure = [32] + [64] + [128] * 2 + [256] * 2 + [512] * 6 + [1024] * 2\n",
    " \n",
    "model_structure = [128] * 2 + [256] * 2 + [512] * 2 + [1024] * 2\n",
    " \n",
    " \n",
    "\n",
    "react_model = Model(\n",
    "    structure=model_structure,\n",
    "    adam_init_lr=1e-2, \n",
    "    adam_weight_decay=0,\n",
    "    adam_betas=(0.9, 0.999),\n",
    "    lr_reduce_factor=0.1,\n",
    "    lr_patience=50,\n",
    "    limit_conv_weight=True,\n",
    "    limit_bn_weight=True,\n",
    "    teacher_model=None\n",
    "    )\n",
    "\n",
    "print(react_model.hparams)\n",
    "print(react_model)"
   ]
  },
  {
   "cell_type": "code",
   "execution_count": 3,
   "metadata": {},
   "outputs": [
    {
     "name": "stderr",
     "output_type": "stream",
     "text": [
      "GPU available: True, used: True\n",
      "TPU available: False, using: 0 TPU cores\n",
      "IPU available: False, using: 0 IPUs\n"
     ]
    },
    {
     "name": "stdout",
     "output_type": "stream",
     "text": [
      "Files already downloaded and verified\n",
      "Files already downloaded and verified\n"
     ]
    },
    {
     "name": "stderr",
     "output_type": "stream",
     "text": [
      "/home/neungyun/anaconda3/lib/python3.9/site-packages/pytorch_lightning/core/datamodule.py:114: LightningDeprecationWarning: DataModule property `train_transforms` was deprecated in v1.5 and will be removed in v1.7.\n",
      "  rank_zero_deprecation(\n",
      "/home/neungyun/anaconda3/lib/python3.9/site-packages/pytorch_lightning/core/datamodule.py:133: LightningDeprecationWarning: DataModule property `val_transforms` was deprecated in v1.5 and will be removed in v1.7.\n",
      "  rank_zero_deprecation(\n",
      "LOCAL_RANK: 0 - CUDA_VISIBLE_DEVICES: [0]\n",
      "/home/neungyun/anaconda3/lib/python3.9/site-packages/torch/_jit_internal.py:668: LightningDeprecationWarning: The `LightningModule.loaded_optimizer_states_dict` property is deprecated in v1.4 and will be removed in v1.6.\n",
      "  if hasattr(mod, name):\n",
      "\n",
      "  | Name   | Type              | Params | In sizes          | Out sizes        \n",
      "-------------------------------------------------------------------------------------\n",
      "0 | blocks | ModuleList        | 17.8 M | ?                 | ?                \n",
      "1 | pool   | AdaptiveAvgPool2d | 0      | [512, 1024, 2, 2] | [512, 1024, 1, 1]\n",
      "2 | fc     | Linear            | 10.2 K | [512, 1024]       | [512, 10]        \n",
      "-------------------------------------------------------------------------------------\n",
      "17.8 M    Trainable params\n",
      "0         Non-trainable params\n",
      "17.8 M    Total params\n",
      "71.057    Total estimated model params size (MB)\n"
     ]
    },
    {
     "data": {
      "application/vnd.jupyter.widget-view+json": {
       "model_id": "e4dce59c58b94492bc8d854b409573dd",
       "version_major": 2,
       "version_minor": 0
      },
      "text/plain": [
       "Validation sanity check: 0it [00:00, ?it/s]"
      ]
     },
     "metadata": {},
     "output_type": "display_data"
    },
    {
     "name": "stderr",
     "output_type": "stream",
     "text": [
      "Global seed set to 1234\n"
     ]
    },
    {
     "data": {
      "application/vnd.jupyter.widget-view+json": {
       "model_id": "2431e10fa719418fbb87c9dcd99ec62c",
       "version_major": 2,
       "version_minor": 0
      },
      "text/plain": [
       "Training: 0it [00:00, ?it/s]"
      ]
     },
     "metadata": {},
     "output_type": "display_data"
    },
    {
     "data": {
      "application/vnd.jupyter.widget-view+json": {
       "model_id": "2ad36966b11145ce83464e819f32ed0f",
       "version_major": 2,
       "version_minor": 0
      },
      "text/plain": [
       "Validating: 0it [00:00, ?it/s]"
      ]
     },
     "metadata": {},
     "output_type": "display_data"
    },
    {
     "data": {
      "application/vnd.jupyter.widget-view+json": {
       "model_id": "dc0dbaf65ee04397977b0b48ac194e3e",
       "version_major": 2,
       "version_minor": 0
      },
      "text/plain": [
       "Validating: 0it [00:00, ?it/s]"
      ]
     },
     "metadata": {},
     "output_type": "display_data"
    }
   ],
   "source": [
    "from pytorch_lightning import Trainer\n",
    "from pytorch_lightning.callbacks import LearningRateMonitor\n",
    "from pytorch_lightning.callbacks import EarlyStopping\n",
    "from pytorch_lightning.callbacks.model_checkpoint import ModelCheckpoint\n",
    "from pytorch_lightning.loggers import TensorBoardLogger\n",
    "\n",
    "checkpoint_callback = ModelCheckpoint(filename='{epoch}-{val_loss:.4f}-{val_acc:.4f}', monitor='val_acc', mode='max')\n",
    "trainer = Trainer(\n",
    "    max_epochs=-1,\n",
    "    gpus=AVAIL_GPUS,\n",
    "    logger=TensorBoardLogger('lightning_logs/', name='new_react_net_resnet44_64_2', log_graph=True),\n",
    "    # logger=TensorBoardLogger('lightning_logs/', name='Real', log_graph=True),\n",
    "    callbacks=[LearningRateMonitor(logging_interval='step'), \n",
    "               EarlyStopping(monitor='val_acc', mode='max', patience=100),\n",
    "               checkpoint_callback],\n",
    "    deterministic=True,\n",
    "#    gradient_clip_val = 0.5\n",
    ")\n",
    "\n",
    "trainer.fit(react_model, datamodule=cifar10_dm)"
   ]
  },
  {
   "cell_type": "code",
   "execution_count": null,
   "metadata": {},
   "outputs": [],
   "source": [
    "react_model.state_dict()"
   ]
  },
  {
   "cell_type": "code",
   "execution_count": null,
   "metadata": {},
   "outputs": [],
   "source": [
    "trainer.test(react_model,cifar10_dm)\n"
   ]
  },
  {
   "cell_type": "code",
   "execution_count": null,
   "metadata": {},
   "outputs": [],
   "source": [
    "print(checkpoint_callback.best_model_path)\n",
    "print(checkpoint_callback.best_model_score)"
   ]
  },
  {
   "cell_type": "code",
   "execution_count": null,
   "metadata": {},
   "outputs": [],
   "source": []
  }
 ],
 "metadata": {
  "interpreter": {
   "hash": "47e09afa00117adb128a14bba5a0354c21242f9789155299d9b4cfecff478770"
  },
  "kernelspec": {
   "display_name": "Python 3.8.12 ('torch')",
   "language": "python",
   "name": "python3"
  },
  "language_info": {
   "codemirror_mode": {
    "name": "ipython",
    "version": 3
   },
   "file_extension": ".py",
   "mimetype": "text/x-python",
   "name": "python",
   "nbconvert_exporter": "python",
   "pygments_lexer": "ipython3",
   "version": "3.9.7"
  },
  "orig_nbformat": 4
 },
 "nbformat": 4,
 "nbformat_minor": 2
}
