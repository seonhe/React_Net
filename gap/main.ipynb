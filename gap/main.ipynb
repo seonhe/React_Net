{
 "cells": [
  {
   "cell_type": "markdown",
   "metadata": {},
   "source": [
    "# Dataloader Setup"
   ]
  },
  {
   "cell_type": "code",
   "execution_count": 3,
   "metadata": {},
   "outputs": [
    {
     "name": "stderr",
     "output_type": "stream",
     "text": [
      "Global seed set to 1234\n"
     ]
    },
    {
     "data": {
      "text/plain": [
       "1234"
      ]
     },
     "execution_count": 3,
     "metadata": {},
     "output_type": "execute_result"
    }
   ],
   "source": [
    "import os\n",
    "import torch\n",
    "import torchvision\n",
    "from pytorch_lightning import seed_everything\n",
    "from pl_bolts.datamodules import CIFAR10DataModule, TinyCIFAR10DataModule\n",
    "from pl_bolts.transforms.dataset_normalizations import cifar10_normalization\n",
    "\n",
    "PATH_DATASETS = os.environ.get('PATH_DATASETS', '../datasets')\n",
    "AVAIL_GPUS = min(1, torch.cuda.device_count())\n",
    "BATCH_SIZE = 512 if AVAIL_GPUS else 64\n",
    "NUM_WORKERS = int(os.cpu_count()/2)\n",
    "TEST_ONLY = False\n",
    "\n",
    "test_transforms = [\n",
    "        torchvision.transforms.ToTensor(),\n",
    "        cifar10_normalization(),        \n",
    "        torchvision.transforms.Lambda(lambda x: x.clamp(min = -1, max = 1)),\n",
    "        torchvision.transforms.Lambda(lambda x: x * 127),   \n",
    "        torchvision.transforms.Lambda(lambda x: x.floor())  \n",
    "]\n",
    "\n",
    "train_transforms = torchvision.transforms.Compose(\n",
    "    [\n",
    "        torchvision.transforms.RandomCrop(32, padding=4),\n",
    "        torchvision.transforms.RandomHorizontalFlip(),\n",
    "    ] \n",
    "    + test_transforms\n",
    ")\n",
    "\n",
    "test_transforms = torchvision.transforms.Compose(test_transforms)\n",
    "\n",
    "cifar10_dm = CIFAR10DataModule(\n",
    "    data_dir = PATH_DATASETS,\n",
    "    batch_size = BATCH_SIZE,\n",
    "    num_workers = NUM_WORKERS,\n",
    "    train_transforms = train_transforms,\n",
    "    test_transforms = test_transforms,\n",
    "    val_transforms = test_transforms,\n",
    ")\n",
    "\n",
    "seed_everything(seed=1234, workers=True)"
   ]
  },
  {
   "cell_type": "markdown",
   "metadata": {},
   "source": [
    "# Model"
   ]
  },
  {
   "cell_type": "code",
   "execution_count": 4,
   "metadata": {
    "scrolled": true
   },
   "outputs": [
    {
     "name": "stdout",
     "output_type": "stream",
     "text": [
      "Model(\n",
      "  (blocks): ModuleList(\n",
      "    (0): BasicBlock(\n",
      "      (GeneralConv2d): GeneralConv2d(3, 128, kernel_size=3, stride=1, padding=1, conv=scaled_sign)\n",
      "      (BatchNorm2d): BatchNorm2d(128, eps=1e-05, momentum=0.1, affine=False, track_running_stats=True)\n",
      "      (Shift): Shift(out_channels=128)\n",
      "      (Clamp): Clamp\n",
      "      (BinaryActivation): BinaryActivation()\n",
      "    )\n",
      "    (1): BasicBlock(\n",
      "      (GeneralConv2d): GeneralConv2d(128, 128, kernel_size=3, stride=1, padding=1, conv=scaled_sign)\n",
      "      (MaxPool2d): MaxPool2d(kernel_size=2, stride=2, padding=0, dilation=1, ceil_mode=False)\n",
      "      (BatchNorm2d): BatchNorm2d(128, eps=1e-05, momentum=0.1, affine=False, track_running_stats=True)\n",
      "      (Shift): Shift(out_channels=128)\n",
      "      (Clamp): Clamp\n",
      "      (BinaryActivation): BinaryActivation()\n",
      "    )\n",
      "    (2): BasicBlock(\n",
      "      (GeneralConv2d): GeneralConv2d(128, 256, kernel_size=3, stride=1, padding=1, conv=scaled_sign)\n",
      "      (BatchNorm2d): BatchNorm2d(256, eps=1e-05, momentum=0.1, affine=False, track_running_stats=True)\n",
      "      (Shift): Shift(out_channels=256)\n",
      "      (Clamp): Clamp\n",
      "      (BinaryActivation): BinaryActivation()\n",
      "    )\n",
      "    (3): BasicBlock(\n",
      "      (GeneralConv2d): GeneralConv2d(256, 256, kernel_size=3, stride=1, padding=1, conv=scaled_sign)\n",
      "      (MaxPool2d): MaxPool2d(kernel_size=2, stride=2, padding=0, dilation=1, ceil_mode=False)\n",
      "      (BatchNorm2d): BatchNorm2d(256, eps=1e-05, momentum=0.1, affine=False, track_running_stats=True)\n",
      "      (Shift): Shift(out_channels=256)\n",
      "      (Clamp): Clamp\n",
      "      (BinaryActivation): BinaryActivation()\n",
      "    )\n",
      "    (4): BasicBlock(\n",
      "      (GeneralConv2d): GeneralConv2d(256, 512, kernel_size=3, stride=1, padding=1, conv=scaled_sign)\n",
      "      (BatchNorm2d): BatchNorm2d(512, eps=1e-05, momentum=0.1, affine=False, track_running_stats=True)\n",
      "      (Shift): Shift(out_channels=512)\n",
      "      (Clamp): Clamp\n",
      "      (BinaryActivation): BinaryActivation()\n",
      "    )\n",
      "    (5): BasicBlock(\n",
      "      (GeneralConv2d): GeneralConv2d(512, 512, kernel_size=3, stride=1, padding=1, conv=scaled_sign)\n",
      "      (MaxPool2d): MaxPool2d(kernel_size=2, stride=2, padding=0, dilation=1, ceil_mode=False)\n",
      "      (BatchNorm2d): BatchNorm2d(512, eps=1e-05, momentum=0.1, affine=False, track_running_stats=True)\n",
      "      (Shift): Shift(out_channels=512)\n",
      "      (Clamp): Clamp\n",
      "      (BinaryActivation): BinaryActivation()\n",
      "      (AvgPool2d): AvgPool2d(kernel_size=4, stride=4, padding=0)\n",
      "    )\n",
      "    (6): BasicBlock(\n",
      "      (GeneralConv2d): GeneralConv2d(512, 10, kernel_size=1, stride=1, padding=0, conv=scaled_sign)\n",
      "      (BatchNorm2d): BatchNorm2d(10, eps=1e-05, momentum=0.1, affine=False, track_running_stats=True)\n",
      "    )\n",
      "  )\n",
      ")\n",
      "\"adam_betas\":        (0.9, 0.999)\n",
      "\"adam_init_lr\":      0.01\n",
      "\"adam_weight_decay\": 0\n",
      "\"limit_bn_weight\":   False\n",
      "\"limit_conv_weight\": True\n",
      "\"lr_patience\":       50\n",
      "\"lr_reduce_factor\":  0.1\n",
      "\"structure\":         [{'in_channels': 3, 'out_channels': 128, 'stride': 1, 'kernel_size': 3, 'padding': 1, 'conv': 'scaled_sign', 'act_fn': 'sign', 'dropout': 0, 'avgpool': 'no'}, {'in_channels': 128, 'out_channels': 128, 'stride': 2, 'kernel_size': 3, 'padding': 1, 'conv': 'scaled_sign', 'act_fn': 'sign', 'dropout': 0, 'avgpool': 'no'}, {'in_channels': 128, 'out_channels': 256, 'stride': 1, 'kernel_size': 3, 'padding': 1, 'conv': 'scaled_sign', 'act_fn': 'sign', 'dropout': 0, 'avgpool': 'no'}, {'in_channels': 256, 'out_channels': 256, 'stride': 2, 'kernel_size': 3, 'padding': 1, 'conv': 'scaled_sign', 'act_fn': 'sign', 'dropout': 0, 'avgpool': 'no'}, {'in_channels': 256, 'out_channels': 512, 'stride': 1, 'kernel_size': 3, 'padding': 1, 'conv': 'scaled_sign', 'act_fn': 'sign', 'dropout': 0, 'avgpool': 'no'}, {'in_channels': 512, 'out_channels': 512, 'stride': 2, 'kernel_size': 3, 'padding': 1, 'conv': 'scaled_sign', 'act_fn': 'sign', 'dropout': 0, 'avgpool': 'pool'}, {'in_channels': 512, 'out_channels': 10, 'stride': 1, 'kernel_size': 1, 'padding': 0, 'conv': 'scaled_sign', 'act_fn': 'none', 'dropout': 0, 'avgpool': 'no'}]\n"
     ]
    }
   ],
   "source": [
    "from xnornet_gap import Model\n",
    "binary_structure = [{'in_channels':3, 'out_channels':128, 'stride':1, 'kernel_size':3, 'padding':1, 'conv':'scaled_sign', 'act_fn':'sign', 'dropout':0,'avgpool':'no'},\n",
    "             {'in_channels':128, 'out_channels':128, 'stride':2, 'kernel_size':3, 'padding':1, 'conv':'scaled_sign', 'act_fn':'sign', 'dropout':0,'avgpool':'no'},\n",
    "             {'in_channels':128, 'out_channels':256, 'stride':1, 'kernel_size':3, 'padding':1, 'conv':'scaled_sign', 'act_fn':'sign', 'dropout':0,'avgpool':'no'},\n",
    "             {'in_channels':256, 'out_channels':256, 'stride':2, 'kernel_size':3, 'padding':1, 'conv':'scaled_sign', 'act_fn':'sign', 'dropout':0,'avgpool':'no'},\n",
    "             {'in_channels':256, 'out_channels':512, 'stride':1, 'kernel_size':3, 'padding':1, 'conv':'scaled_sign', 'act_fn':'sign', 'dropout':0,'avgpool':'no'},\n",
    "             {'in_channels':512, 'out_channels':512, 'stride':2, 'kernel_size':3, 'padding':1, 'conv':'scaled_sign', 'act_fn':'sign', 'dropout':0,'avgpool':'pool'}, # 6 conv\n",
    "             {'in_channels':512, 'out_channels':10, 'stride':1, 'kernel_size':1, 'padding':0, 'conv':'scaled_sign', 'act_fn':'none', 'dropout':0,'avgpool':'no'}]\n",
    "\n",
    "\n",
    "model = Model(structure=binary_structure, \n",
    "              adam_init_lr=1e-2, \n",
    "              lr_patience=50,\n",
    "              limit_conv_weight=True,\n",
    "              limit_bn_weight=False)\n",
    "print(model)\n",
    "print(model.hparams)"
   ]
  },
  {
   "cell_type": "markdown",
   "metadata": {},
   "source": [
    "# Initialize Parameters from Real Ones"
   ]
  },
  {
   "cell_type": "code",
   "execution_count": null,
   "metadata": {},
   "outputs": [],
   "source": [
    "#model = Model.load_from_checkpoint('lightning_logs/no_affine_bias/version_0/checkpoints/epoch=422-val_loss=0.6115-val_acc=0.8388.ckpt')\n",
    "#model.load_state_dict(real_model.state_dict(), strict=False)"
   ]
  },
  {
   "cell_type": "markdown",
   "metadata": {},
   "source": [
    "# Training & Testing"
   ]
  },
  {
   "cell_type": "code",
   "execution_count": null,
   "metadata": {
    "scrolled": true,
    "tags": []
   },
   "outputs": [],
   "source": [
    "from pytorch_lightning import Trainer\n",
    "from pytorch_lightning.callbacks import LearningRateMonitor\n",
    "from pytorch_lightning.callbacks import EarlyStopping\n",
    "from pytorch_lightning.callbacks.model_checkpoint import ModelCheckpoint\n",
    "from pytorch_lightning.loggers import TensorBoardLogger\n",
    "\n",
    "checkpoint_callback = ModelCheckpoint(filename='{epoch}-{val_loss:.4f}-{val_acc:.4f}', monitor='val_acc', mode='max')\n",
    "trainer = Trainer(\n",
    "    max_epochs=-1,\n",
    "    gpus=AVAIL_GPUS,\n",
    "    logger=TensorBoardLogger('lightning_logs/', name='no_affine_weight + no_shiftlayer', log_graph=True),\n",
    "    # logger=TensorBoardLogger('lightning_logs/', name='Real', log_graph=True),\n",
    "    callbacks=[LearningRateMonitor(logging_interval='step'), \n",
    "               EarlyStopping(monitor='val_acc', mode='max', patience=100),\n",
    "               checkpoint_callback],\n",
    "    deterministic=True,\n",
    "#    gradient_clip_val = 0.5\n",
    ")\n",
    "\n",
    "trainer.fit(model, datamodule=cifar10_dm)"
   ]
  },
  {
   "cell_type": "code",
   "execution_count": null,
   "metadata": {},
   "outputs": [],
   "source": [
    "trainer.test(model, datamodule=cifar10_dm)\n",
    "print(checkpoint_callback.best_model_score)\n",
    "print(checkpoint_callback.best_model_path)"
   ]
  },
  {
   "cell_type": "code",
   "execution_count": null,
   "metadata": {},
   "outputs": [],
   "source": [
    "quit()"
   ]
  }
 ],
 "metadata": {
  "kernelspec": {
   "display_name": "Python 3 (ipykernel)",
   "language": "python",
   "name": "python3"
  },
  "language_info": {
   "codemirror_mode": {
    "name": "ipython",
    "version": 3
   },
   "file_extension": ".py",
   "mimetype": "text/x-python",
   "name": "python",
   "nbconvert_exporter": "python",
   "pygments_lexer": "ipython3",
   "version": "3.8.12"
  }
 },
 "nbformat": 4,
 "nbformat_minor": 4
}
