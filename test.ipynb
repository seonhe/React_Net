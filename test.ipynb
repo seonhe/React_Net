{
 "cells": [
  {
   "cell_type": "code",
   "execution_count": null,
   "metadata": {},
   "outputs": [],
   "source": [
    "import torch\n",
    "import torch.nn as nn\n",
    "import torch.nn.functional as F\n",
    "from react import RPReLU, RSign, Sign\n",
    "\n",
    "x = torch.randn(5,3,10,10)\n",
    "rs = RSign(3)\n",
    "y = rs(x)\n",
    "#print(y)\n",
    "\n",
    "\n",
    "\n"
   ]
  },
  {
   "cell_type": "code",
   "execution_count": null,
   "metadata": {},
   "outputs": [],
   "source": [
    "x = torch.randn(5,3,10,10)\n",
    "rp = RPReLU(3)\n",
    "y2 = rp(x)\n",
    "y2"
   ]
  },
  {
   "cell_type": "code",
   "execution_count": 1,
   "metadata": {},
   "outputs": [
    {
     "data": {
      "text/plain": [
       "tensor([[[[-1.,  1.,  1., -1., -1.],\n",
       "          [-1.,  1.,  1., -1., -1.],\n",
       "          [-1., -1., -1., -1., -1.],\n",
       "          [-1.,  1.,  1.,  1.,  1.],\n",
       "          [-1.,  1., -1., -1., -1.]],\n",
       "\n",
       "         [[ 1., -1., -1.,  1., -1.],\n",
       "          [ 1., -1., -1.,  1.,  1.],\n",
       "          [ 1.,  1.,  1., -1.,  1.],\n",
       "          [-1., -1.,  1., -1., -1.],\n",
       "          [ 1., -1., -1., -1.,  1.]],\n",
       "\n",
       "         [[-1.,  1.,  1., -1.,  1.],\n",
       "          [ 1., -1., -1.,  1., -1.],\n",
       "          [-1., -1., -1., -1., -1.],\n",
       "          [ 1., -1., -1., -1., -1.],\n",
       "          [ 1., -1., -1.,  1.,  1.]],\n",
       "\n",
       "         [[ 1., -1., -1., -1.,  1.],\n",
       "          [-1.,  1.,  1., -1., -1.],\n",
       "          [ 1.,  1.,  1., -1.,  1.],\n",
       "          [ 1.,  1., -1.,  1.,  1.],\n",
       "          [-1., -1.,  1.,  1., -1.]],\n",
       "\n",
       "         [[-1., -1., -1., -1.,  1.],\n",
       "          [-1.,  1.,  1.,  1.,  1.],\n",
       "          [-1., -1., -1., -1., -1.],\n",
       "          [ 1.,  1.,  1., -1.,  1.],\n",
       "          [ 1.,  1.,  1.,  1.,  1.]],\n",
       "\n",
       "         [[-1.,  1., -1., -1., -1.],\n",
       "          [-1., -1.,  1., -1.,  1.],\n",
       "          [-1., -1.,  1.,  1.,  1.],\n",
       "          [ 1., -1., -1.,  1.,  1.],\n",
       "          [-1., -1., -1.,  1.,  1.]],\n",
       "\n",
       "         [[ 1., -1., -1.,  1., -1.],\n",
       "          [ 1.,  1., -1.,  1.,  1.],\n",
       "          [-1.,  1., -1., -1., -1.],\n",
       "          [ 1., -1., -1., -1.,  1.],\n",
       "          [ 1.,  1.,  1.,  1.,  1.]],\n",
       "\n",
       "         [[ 1., -1., -1., -1.,  1.],\n",
       "          [-1.,  1.,  1., -1., -1.],\n",
       "          [-1., -1., -1., -1., -1.],\n",
       "          [-1., -1.,  1., -1., -1.],\n",
       "          [ 1.,  1., -1.,  1., -1.]],\n",
       "\n",
       "         [[ 1., -1.,  1., -1.,  1.],\n",
       "          [-1.,  1.,  1., -1.,  1.],\n",
       "          [ 1.,  1.,  1., -1., -1.],\n",
       "          [-1.,  1., -1., -1.,  1.],\n",
       "          [-1., -1., -1.,  1.,  1.]],\n",
       "\n",
       "         [[-1.,  1., -1.,  1.,  1.],\n",
       "          [ 1.,  1.,  1.,  1., -1.],\n",
       "          [-1.,  1., -1.,  1., -1.],\n",
       "          [ 1.,  1.,  1., -1.,  1.],\n",
       "          [-1.,  1., -1.,  1., -1.]]]], grad_fn=<AddBackward0>)"
      ]
     },
     "execution_count": 1,
     "metadata": {},
     "output_type": "execute_result"
    }
   ],
   "source": [
    "import torch\n",
    "from react import RSign,Sign,Shift,QuadraticSign\n",
    "\n",
    "a = torch.randn(1,10,5,5, requires_grad=True)\n",
    "b = QuadraticSign()\n",
    "b(a)"
   ]
  },
  {
   "cell_type": "code",
   "execution_count": null,
   "metadata": {},
   "outputs": [],
   "source": []
  }
 ],
 "metadata": {
  "interpreter": {
   "hash": "47e09afa00117adb128a14bba5a0354c21242f9789155299d9b4cfecff478770"
  },
  "kernelspec": {
   "display_name": "Python 3.8.12 ('torch')",
   "language": "python",
   "name": "python3"
  },
  "language_info": {
   "codemirror_mode": {
    "name": "ipython",
    "version": 3
   },
   "file_extension": ".py",
   "mimetype": "text/x-python",
   "name": "python",
   "nbconvert_exporter": "python",
   "pygments_lexer": "ipython3",
   "version": "3.9.7"
  },
  "orig_nbformat": 4
 },
 "nbformat": 4,
 "nbformat_minor": 2
}
